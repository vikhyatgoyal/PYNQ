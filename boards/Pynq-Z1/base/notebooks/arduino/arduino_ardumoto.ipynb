{
 "cells": [
  {
   "cell_type": "markdown",
   "metadata": {},
   "source": [
    "# Ardumoto Example\n",
    "\n",
    "This example shows how to use the [Ardumoto](https://www.sparkfun.com/products/14180?_ga=2.131154063.1683239815.1506444499-1487919484.1504886094) on the Pynq-Z1 board.  \n",
    "Ardumoto supports two DC motor driving.\n",
    "\n",
    "Motor A and Motor B are conneccted as below to the arduino pins:"
   ]
  },
  {
   "cell_type": "code",
   "execution_count": 1,
   "metadata": {
    "collapsed": true
   },
   "outputs": [],
   "source": [
    "# Make sure the base overlay is loaded\n",
    "from pynq.overlays.base import BaseOverlay\n",
    "base = BaseOverlay(\"base.bit\")"
   ]
  },
  {
   "cell_type": "markdown",
   "metadata": {},
   "source": [
    "### 1. Instantiate Ardumoto"
   ]
  },
  {
   "cell_type": "code",
   "execution_count": 2,
   "metadata": {
    "collapsed": true,
    "scrolled": true
   },
   "outputs": [],
   "source": [
    "from pynq.lib.arduino.arduino_ardumoto import Arduino_Ardumoto\n",
    "\n",
    "# Instantiate Grove ultrasonic ranger on Arduino shield G1\n",
    "ardu = Arduino_Ardumoto(base.ARDUINO)"
   ]
  },
  {
   "cell_type": "markdown",
   "metadata": {},
   "source": [
    "### 2. Set Direction and speed for A motor "
   ]
  },
  {
   "cell_type": "code",
   "execution_count": 3,
   "metadata": {
    "collapsed": true
   },
   "outputs": [],
   "source": [
    "#use deafult pin configuration \n",
    "ardu.configure_pins(0)"
   ]
  },
  {
   "cell_type": "code",
   "execution_count": 4,
   "metadata": {
    "collapsed": true
   },
   "outputs": [],
   "source": [
    "#forward = clockwise\n",
    "ardu.configure_dir(0) "
   ]
  },
  {
   "cell_type": "markdown",
   "metadata": {},
   "source": [
    "### 3. Set Direction and speed for each motor and run each individually"
   ]
  },
  {
   "cell_type": "code",
   "execution_count": 5,
   "metadata": {},
   "outputs": [
    {
     "data": {
      "text/plain": [
       "0"
      ]
     },
     "execution_count": 5,
     "metadata": {},
     "output_type": "execute_result"
    }
   ],
   "source": [
    "#Use MOTOR A and set it for forward rotation\n",
    "ardu.set_dir(0,0)"
   ]
  },
  {
   "cell_type": "code",
   "execution_count": 6,
   "metadata": {},
   "outputs": [
    {
     "data": {
      "text/plain": [
       "0"
      ]
     },
     "execution_count": 6,
     "metadata": {},
     "output_type": "execute_result"
    }
   ],
   "source": [
    "#set speed for MOTOR A with duty = 50\n",
    "ardu.set_speed(0,50)"
   ]
  },
  {
   "cell_type": "code",
   "execution_count": 13,
   "metadata": {},
   "outputs": [
    {
     "data": {
      "text/plain": [
       "1"
      ]
     },
     "execution_count": 13,
     "metadata": {},
     "output_type": "execute_result"
    }
   ],
   "source": [
    "#Use MOTOR B and set it for forward rotation\n",
    "ardu.set_dir(1,1)"
   ]
  },
  {
   "cell_type": "code",
   "execution_count": 14,
   "metadata": {},
   "outputs": [
    {
     "data": {
      "text/plain": [
       "1"
      ]
     },
     "execution_count": 14,
     "metadata": {},
     "output_type": "execute_result"
    }
   ],
   "source": [
    "#set speed for MOTOR B with duty = 50\n",
    "ardu.set_speed(1,10)"
   ]
  },
  {
   "cell_type": "code",
   "execution_count": 15,
   "metadata": {},
   "outputs": [
    {
     "data": {
      "text/plain": [
       "1"
      ]
     },
     "execution_count": 15,
     "metadata": {},
     "output_type": "execute_result"
    }
   ],
   "source": [
    "from time import sleep\n",
    "ardu.run(0)\n",
    "sleep(1)\n",
    "ardu.stop(0)\n",
    "sleep(1)\n",
    "ardu.run(1)\n",
    "sleep(1)\n",
    "ardu.stop(1)"
   ]
  },
  {
   "cell_type": "markdown",
   "metadata": {},
   "source": [
    "### 4. run both motor together for 100 msec"
   ]
  },
  {
   "cell_type": "code",
   "execution_count": 12,
   "metadata": {},
   "outputs": [
    {
     "data": {
      "text/plain": [
       "1"
      ]
     },
     "execution_count": 12,
     "metadata": {},
     "output_type": "execute_result"
    }
   ],
   "source": [
    "ardu.run(0)\n",
    "ardu.run(1)\n",
    "sleep(1)\n",
    "ardu.stop(0)\n",
    "ardu.stop(1)"
   ]
  },
  {
   "cell_type": "markdown",
   "metadata": {},
   "source": [
    "### 5. run one motor clockwise and other motor anti-clockwise"
   ]
  },
  {
   "cell_type": "code",
   "execution_count": 11,
   "metadata": {},
   "outputs": [
    {
     "data": {
      "text/plain": [
       "1"
      ]
     },
     "execution_count": 11,
     "metadata": {},
     "output_type": "execute_result"
    }
   ],
   "source": [
    "#Use MOTOR A and set it for forward rotation\n",
    "ardu.set_dir(0,0)\n",
    "#set speed for MOTOR A with duty = 50\n",
    "ardu.set_speed(0,50)\n",
    "#Use MOTOR B and set it for reverse rotation\n",
    "ardu.set_dir(1,1)\n",
    "#set speed for MOTOR B with duty = 50\n",
    "ardu.set_speed(1,50)\n",
    "#Run both the motors\n",
    "ardu.run(0)\n",
    "ardu.run(1)\n",
    "sleep(1)\n",
    "ardu.stop(0)\n",
    "ardu.stop(1)"
   ]
  },
  {
   "cell_type": "code",
   "execution_count": null,
   "metadata": {
    "collapsed": true
   },
   "outputs": [],
   "source": []
  }
 ],
 "metadata": {
  "kernelspec": {
   "display_name": "Python 3",
   "language": "python",
   "name": "python3"
  },
  "language_info": {
   "codemirror_mode": {
    "name": "ipython",
    "version": 3
   },
   "file_extension": ".py",
   "mimetype": "text/x-python",
   "name": "python",
   "nbconvert_exporter": "python",
   "pygments_lexer": "ipython3",
   "version": "3.6.0"
  }
 },
 "nbformat": 4,
 "nbformat_minor": 1
}
